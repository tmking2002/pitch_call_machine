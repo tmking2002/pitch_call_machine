{
 "cells": [
  {
   "cell_type": "code",
   "execution_count": 3,
   "metadata": {},
   "outputs": [],
   "source": [
    "import pandas as pd\n",
    "import os\n",
    "from tqdm import tqdm\n",
    "from sklearn.linear_model import LinearRegression"
   ]
  },
  {
   "cell_type": "code",
   "execution_count": 4,
   "metadata": {},
   "outputs": [],
   "source": [
    "files = os.listdir('data')\n",
    "data = pd.DataFrame()\n",
    "\n",
    "for file in files:\n",
    "    if not file.__contains__('half_inning_data'):\n",
    "        data = pd.concat([data, pd.read_csv('data/' + file)], ignore_index=True)\n",
    "\n",
    "data['RunsScored'].fillna(0, inplace=True)\n",
    "data = data[(data['PitchCall'].notna()) & (data['Inning'].notna()) & (data['GameID'].notna())]"
   ]
  },
  {
   "cell_type": "code",
   "execution_count": 5,
   "metadata": {},
   "outputs": [],
   "source": [
    "game_ids = pd.unique(data['GameID'])\n",
    "\n",
    "def widen_half_inning(data, game_id, half_inning):\n",
    "    data.loc[data['PitchCall'] == 'InPlay', 'PitchCall'] = data.loc[data['PitchCall'] == 'InPlay', 'PlayResult']\n",
    "\n",
    "    half_inning_data = pd.DataFrame({'GameID': game_id, 'HalfInning': half_inning, 'RunScored': sum(data['RunsScored']),\n",
    "                                     'StrikeCalled': 0, 'BallCalled': 0, 'Foul': 0, 'StrikeSwinging': 0, 'Out': 0, 'Error': 0,\n",
    "                                     'HitByPitch': 0, 'Sacrifice': 0, 'FoulTip': 0, 'FieldersChoice': 0, 'Single': 0,\n",
    "                                     'Double': 0, 'Triple': 0, 'HomeRun': 0}, index=[0])\n",
    "\n",
    "    data = data.reset_index(drop=True)\n",
    "\n",
    "    for i in range(len(data)):\n",
    "        if data.loc[i, 'PitchCall'] in ['StrikeCalled', 'BallCalled', 'Foul', 'StrikeSwinging', 'Out', 'Error',\n",
    "                                         'HitByPitch', 'Sacrifice', 'FoulTip', 'FieldersChoice', 'Single', 'Double',\n",
    "                                         'Triple', 'HomeRun']:\n",
    "            half_inning_data.loc[0, data.loc[i, 'PitchCall']] += 1\n",
    "\n",
    "    return half_inning_data"
   ]
  },
  {
   "cell_type": "code",
   "execution_count": 6,
   "metadata": {},
   "outputs": [
    {
     "name": "stderr",
     "output_type": "stream",
     "text": [
      "100%|██████████| 111/111 [00:05<00:00, 18.93it/s]\n"
     ]
    }
   ],
   "source": [
    "half_inning_data = pd.DataFrame()\n",
    "\n",
    "for i in tqdm(range(len(game_ids))):\n",
    "\n",
    "    game_id = game_ids[i]\n",
    "    \n",
    "    game_data = data.loc[data['GameID'] == game_id]\n",
    "\n",
    "    for inning in range(1, max(game_data['Inning'].astype(int)) + 1):\n",
    "        inning_data = game_data.loc[game_data['Inning'] == inning]\n",
    "\n",
    "        home_half_inning_data = widen_half_inning(inning_data.loc[inning_data['Top/Bottom'] == 'Bottom'], game_id, 'bottom' + str(inning))\n",
    "        away_half_inning_data = widen_half_inning(inning_data.loc[inning_data['Top/Bottom'] == 'Top'], game_id, 'top' + str(inning))\n",
    "\n",
    "        half_inning_data = pd.concat([half_inning_data, home_half_inning_data, away_half_inning_data], ignore_index=True)\n",
    "\n",
    "half_inning_data.to_csv('data/half_inning_data.csv', index=False)"
   ]
  },
  {
   "cell_type": "code",
   "execution_count": 7,
   "metadata": {},
   "outputs": [],
   "source": [
    "X = half_inning_data.drop(['GameID', 'HalfInning', 'RunScored'], axis=1)\n",
    "y = half_inning_data['RunScored']\n",
    "\n",
    "model = LinearRegression().fit(X, y)\n",
    "coefs = pd.DataFrame({'Feature': X.columns, 'Coefficient': model.coef_})\n",
    "\n",
    "coefs = coefs[~coefs['Feature'].isin(['Sacrifice', 'FieldersChoice', 'FoulTip'])]\n",
    "\n",
    "coefs['Coefficient'] = (coefs['Coefficient'] - coefs['Coefficient'].max()) / (coefs['Coefficient'].min() - coefs['Coefficient'].max())\n",
    "coefs = coefs.sort_values('Coefficient', ascending=False)"
   ]
  },
  {
   "cell_type": "code",
   "execution_count": 8,
   "metadata": {},
   "outputs": [],
   "source": [
    "coefs.to_csv('ab_scores.csv', index=False)"
   ]
  }
 ],
 "metadata": {
  "kernelspec": {
   "display_name": "Python 3",
   "language": "python",
   "name": "python3"
  },
  "language_info": {
   "codemirror_mode": {
    "name": "ipython",
    "version": 3
   },
   "file_extension": ".py",
   "mimetype": "text/x-python",
   "name": "python",
   "nbconvert_exporter": "python",
   "pygments_lexer": "ipython3",
   "version": "3.11.2"
  }
 },
 "nbformat": 4,
 "nbformat_minor": 2
}
