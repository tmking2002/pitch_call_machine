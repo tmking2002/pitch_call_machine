{
 "cells": [
  {
   "cell_type": "code",
   "execution_count": 27,
   "metadata": {},
   "outputs": [],
   "source": [
    "import pandas as pd\n",
    "import os\n",
    "from sklearn.neural_network import MLPRegressor\n",
    "from sklearn.model_selection import train_test_split\n",
    "import pickle"
   ]
  },
  {
   "cell_type": "code",
   "execution_count": 31,
   "metadata": {},
   "outputs": [],
   "source": [
    "files = os.listdir('data')\n",
    "data = pd.DataFrame()\n",
    "\n",
    "for file in files:\n",
    "    if file.__contains__('GT'):\n",
    "        data = pd.concat([data, pd.read_csv('data/' + file)], ignore_index=True)\n",
    "\n",
    "data.loc[data['PitchCall'] == 'InPlay', 'PitchCall'] = data.loc[data['PitchCall'] == 'InPlay', 'PlayResult']\n",
    "\n",
    "ab_scores = pd.read_csv('ab_scores.csv')\n",
    "\n",
    "data['TaggedPitchType'] = data['TaggedPitchType'].str.replace(' ', '')\n",
    "data['TaggedPitchType'] = data['TaggedPitchType'].str.title()\n",
    "\n",
    "data = data[(data['TaggedPitchType'].isin(['Dropball', 'Fastball', 'Riseball', 'Changeup', 'Curveball', 'Screwball'])) & (data['PitcherTeam'] == 'Georgia tech') & (data['BatterSide'].isin(['Right', 'Left']))]\n",
    "data = pd.merge(data, ab_scores, left_on='PitchCall', right_on='Feature', how='inner')\n",
    "\n",
    "# if the previous pitch was in the same half inning with the same pitcher, create new column called LagPitchType\n",
    "data['LagPitchType'] = data.groupby(['Pitcher', 'GameID', 'Top/Bottom'])['TaggedPitchType'].shift(1)\n",
    "\n",
    "data = data.dropna(subset=['BatterSide'])"
   ]
  },
  {
   "cell_type": "code",
   "execution_count": 37,
   "metadata": {},
   "outputs": [
    {
     "name": "stdout",
     "output_type": "stream",
     "text": [
      "['Balls', 'Strikes', 'TaggedPitchType_Changeup', 'TaggedPitchType_Curveball', 'TaggedPitchType_Dropball', 'TaggedPitchType_Fastball', 'TaggedPitchType_Riseball', 'TaggedPitchType_Screwball', 'LagPitchType_Changeup', 'LagPitchType_Curveball', 'LagPitchType_Dropball', 'LagPitchType_Fastball', 'LagPitchType_Riseball', 'LagPitchType_Screwball', 'BatterSide_Left', 'BatterSide_Right', 'TaggedPitchType_Changeup_LagPitchType_Changeup', 'TaggedPitchType_Changeup_LagPitchType_Curveball', 'TaggedPitchType_Changeup_LagPitchType_Dropball', 'TaggedPitchType_Changeup_LagPitchType_Fastball', 'TaggedPitchType_Changeup_LagPitchType_Riseball', 'TaggedPitchType_Changeup_LagPitchType_Screwball', 'TaggedPitchType_Curveball_LagPitchType_Changeup', 'TaggedPitchType_Curveball_LagPitchType_Curveball', 'TaggedPitchType_Curveball_LagPitchType_Dropball', 'TaggedPitchType_Curveball_LagPitchType_Fastball', 'TaggedPitchType_Curveball_LagPitchType_Riseball', 'TaggedPitchType_Curveball_LagPitchType_Screwball', 'TaggedPitchType_Dropball_LagPitchType_Changeup', 'TaggedPitchType_Dropball_LagPitchType_Curveball', 'TaggedPitchType_Dropball_LagPitchType_Dropball', 'TaggedPitchType_Dropball_LagPitchType_Fastball', 'TaggedPitchType_Dropball_LagPitchType_Riseball', 'TaggedPitchType_Dropball_LagPitchType_Screwball', 'TaggedPitchType_Fastball_LagPitchType_Changeup', 'TaggedPitchType_Fastball_LagPitchType_Curveball', 'TaggedPitchType_Fastball_LagPitchType_Dropball', 'TaggedPitchType_Fastball_LagPitchType_Fastball', 'TaggedPitchType_Fastball_LagPitchType_Riseball', 'TaggedPitchType_Fastball_LagPitchType_Screwball', 'TaggedPitchType_Riseball_LagPitchType_Changeup', 'TaggedPitchType_Riseball_LagPitchType_Curveball', 'TaggedPitchType_Riseball_LagPitchType_Dropball', 'TaggedPitchType_Riseball_LagPitchType_Fastball', 'TaggedPitchType_Riseball_LagPitchType_Riseball', 'TaggedPitchType_Riseball_LagPitchType_Screwball', 'TaggedPitchType_Screwball_LagPitchType_Changeup', 'TaggedPitchType_Screwball_LagPitchType_Curveball', 'TaggedPitchType_Screwball_LagPitchType_Dropball', 'TaggedPitchType_Screwball_LagPitchType_Fastball', 'TaggedPitchType_Screwball_LagPitchType_Riseball', 'TaggedPitchType_Screwball_LagPitchType_Screwball']\n",
      "['Balls', 'Strikes', 'TaggedPitchType_Changeup', 'TaggedPitchType_Dropball', 'TaggedPitchType_Fastball', 'TaggedPitchType_Riseball', 'LagPitchType_Changeup', 'LagPitchType_Dropball', 'LagPitchType_Fastball', 'LagPitchType_Riseball', 'BatterSide_Left', 'BatterSide_Right', 'TaggedPitchType_Changeup_LagPitchType_Changeup', 'TaggedPitchType_Changeup_LagPitchType_Dropball', 'TaggedPitchType_Changeup_LagPitchType_Fastball', 'TaggedPitchType_Changeup_LagPitchType_Riseball', 'TaggedPitchType_Dropball_LagPitchType_Changeup', 'TaggedPitchType_Dropball_LagPitchType_Dropball', 'TaggedPitchType_Dropball_LagPitchType_Fastball', 'TaggedPitchType_Dropball_LagPitchType_Riseball', 'TaggedPitchType_Fastball_LagPitchType_Changeup', 'TaggedPitchType_Fastball_LagPitchType_Dropball', 'TaggedPitchType_Fastball_LagPitchType_Fastball', 'TaggedPitchType_Fastball_LagPitchType_Riseball', 'TaggedPitchType_Riseball_LagPitchType_Changeup', 'TaggedPitchType_Riseball_LagPitchType_Dropball', 'TaggedPitchType_Riseball_LagPitchType_Fastball', 'TaggedPitchType_Riseball_LagPitchType_Riseball']\n",
      "['Balls', 'Strikes', 'TaggedPitchType_Changeup', 'TaggedPitchType_Curveball', 'TaggedPitchType_Dropball', 'TaggedPitchType_Fastball', 'TaggedPitchType_Riseball', 'TaggedPitchType_Screwball', 'LagPitchType_Changeup', 'LagPitchType_Curveball', 'LagPitchType_Dropball', 'LagPitchType_Fastball', 'LagPitchType_Riseball', 'LagPitchType_Screwball', 'BatterSide_Left', 'BatterSide_Right', 'TaggedPitchType_Changeup_LagPitchType_Changeup', 'TaggedPitchType_Changeup_LagPitchType_Curveball', 'TaggedPitchType_Changeup_LagPitchType_Dropball', 'TaggedPitchType_Changeup_LagPitchType_Fastball', 'TaggedPitchType_Changeup_LagPitchType_Riseball', 'TaggedPitchType_Changeup_LagPitchType_Screwball', 'TaggedPitchType_Curveball_LagPitchType_Changeup', 'TaggedPitchType_Curveball_LagPitchType_Curveball', 'TaggedPitchType_Curveball_LagPitchType_Dropball', 'TaggedPitchType_Curveball_LagPitchType_Fastball', 'TaggedPitchType_Curveball_LagPitchType_Riseball', 'TaggedPitchType_Curveball_LagPitchType_Screwball', 'TaggedPitchType_Dropball_LagPitchType_Changeup', 'TaggedPitchType_Dropball_LagPitchType_Curveball', 'TaggedPitchType_Dropball_LagPitchType_Dropball', 'TaggedPitchType_Dropball_LagPitchType_Fastball', 'TaggedPitchType_Dropball_LagPitchType_Riseball', 'TaggedPitchType_Dropball_LagPitchType_Screwball', 'TaggedPitchType_Fastball_LagPitchType_Changeup', 'TaggedPitchType_Fastball_LagPitchType_Curveball', 'TaggedPitchType_Fastball_LagPitchType_Dropball', 'TaggedPitchType_Fastball_LagPitchType_Fastball', 'TaggedPitchType_Fastball_LagPitchType_Riseball', 'TaggedPitchType_Fastball_LagPitchType_Screwball', 'TaggedPitchType_Riseball_LagPitchType_Changeup', 'TaggedPitchType_Riseball_LagPitchType_Curveball', 'TaggedPitchType_Riseball_LagPitchType_Dropball', 'TaggedPitchType_Riseball_LagPitchType_Fastball', 'TaggedPitchType_Riseball_LagPitchType_Riseball', 'TaggedPitchType_Riseball_LagPitchType_Screwball', 'TaggedPitchType_Screwball_LagPitchType_Changeup', 'TaggedPitchType_Screwball_LagPitchType_Curveball', 'TaggedPitchType_Screwball_LagPitchType_Dropball', 'TaggedPitchType_Screwball_LagPitchType_Fastball', 'TaggedPitchType_Screwball_LagPitchType_Riseball', 'TaggedPitchType_Screwball_LagPitchType_Screwball']\n",
      "['Balls', 'Strikes', 'TaggedPitchType_Changeup', 'TaggedPitchType_Curveball', 'TaggedPitchType_Dropball', 'TaggedPitchType_Fastball', 'TaggedPitchType_Riseball', 'TaggedPitchType_Screwball', 'LagPitchType_Changeup', 'LagPitchType_Curveball', 'LagPitchType_Dropball', 'LagPitchType_Fastball', 'LagPitchType_Riseball', 'LagPitchType_Screwball', 'BatterSide_Left', 'BatterSide_Right', 'TaggedPitchType_Changeup_LagPitchType_Changeup', 'TaggedPitchType_Changeup_LagPitchType_Curveball', 'TaggedPitchType_Changeup_LagPitchType_Dropball', 'TaggedPitchType_Changeup_LagPitchType_Fastball', 'TaggedPitchType_Changeup_LagPitchType_Riseball', 'TaggedPitchType_Changeup_LagPitchType_Screwball', 'TaggedPitchType_Curveball_LagPitchType_Changeup', 'TaggedPitchType_Curveball_LagPitchType_Curveball', 'TaggedPitchType_Curveball_LagPitchType_Dropball', 'TaggedPitchType_Curveball_LagPitchType_Fastball', 'TaggedPitchType_Curveball_LagPitchType_Riseball', 'TaggedPitchType_Curveball_LagPitchType_Screwball', 'TaggedPitchType_Dropball_LagPitchType_Changeup', 'TaggedPitchType_Dropball_LagPitchType_Curveball', 'TaggedPitchType_Dropball_LagPitchType_Dropball', 'TaggedPitchType_Dropball_LagPitchType_Fastball', 'TaggedPitchType_Dropball_LagPitchType_Riseball', 'TaggedPitchType_Dropball_LagPitchType_Screwball', 'TaggedPitchType_Fastball_LagPitchType_Changeup', 'TaggedPitchType_Fastball_LagPitchType_Curveball', 'TaggedPitchType_Fastball_LagPitchType_Dropball', 'TaggedPitchType_Fastball_LagPitchType_Fastball', 'TaggedPitchType_Fastball_LagPitchType_Riseball', 'TaggedPitchType_Fastball_LagPitchType_Screwball', 'TaggedPitchType_Riseball_LagPitchType_Changeup', 'TaggedPitchType_Riseball_LagPitchType_Curveball', 'TaggedPitchType_Riseball_LagPitchType_Dropball', 'TaggedPitchType_Riseball_LagPitchType_Fastball', 'TaggedPitchType_Riseball_LagPitchType_Riseball', 'TaggedPitchType_Riseball_LagPitchType_Screwball', 'TaggedPitchType_Screwball_LagPitchType_Changeup', 'TaggedPitchType_Screwball_LagPitchType_Curveball', 'TaggedPitchType_Screwball_LagPitchType_Dropball', 'TaggedPitchType_Screwball_LagPitchType_Fastball', 'TaggedPitchType_Screwball_LagPitchType_Riseball', 'TaggedPitchType_Screwball_LagPitchType_Screwball']\n",
      "['Balls', 'Strikes', 'TaggedPitchType_Changeup', 'TaggedPitchType_Curveball', 'TaggedPitchType_Dropball', 'TaggedPitchType_Fastball', 'TaggedPitchType_Riseball', 'TaggedPitchType_Screwball', 'LagPitchType_Changeup', 'LagPitchType_Curveball', 'LagPitchType_Dropball', 'LagPitchType_Fastball', 'LagPitchType_Riseball', 'LagPitchType_Screwball', 'BatterSide_Left', 'BatterSide_Right', 'TaggedPitchType_Changeup_LagPitchType_Changeup', 'TaggedPitchType_Changeup_LagPitchType_Curveball', 'TaggedPitchType_Changeup_LagPitchType_Dropball', 'TaggedPitchType_Changeup_LagPitchType_Fastball', 'TaggedPitchType_Changeup_LagPitchType_Riseball', 'TaggedPitchType_Changeup_LagPitchType_Screwball', 'TaggedPitchType_Curveball_LagPitchType_Changeup', 'TaggedPitchType_Curveball_LagPitchType_Curveball', 'TaggedPitchType_Curveball_LagPitchType_Dropball', 'TaggedPitchType_Curveball_LagPitchType_Fastball', 'TaggedPitchType_Curveball_LagPitchType_Riseball', 'TaggedPitchType_Curveball_LagPitchType_Screwball', 'TaggedPitchType_Dropball_LagPitchType_Changeup', 'TaggedPitchType_Dropball_LagPitchType_Curveball', 'TaggedPitchType_Dropball_LagPitchType_Dropball', 'TaggedPitchType_Dropball_LagPitchType_Fastball', 'TaggedPitchType_Dropball_LagPitchType_Riseball', 'TaggedPitchType_Dropball_LagPitchType_Screwball', 'TaggedPitchType_Fastball_LagPitchType_Changeup', 'TaggedPitchType_Fastball_LagPitchType_Curveball', 'TaggedPitchType_Fastball_LagPitchType_Dropball', 'TaggedPitchType_Fastball_LagPitchType_Fastball', 'TaggedPitchType_Fastball_LagPitchType_Riseball', 'TaggedPitchType_Fastball_LagPitchType_Screwball', 'TaggedPitchType_Riseball_LagPitchType_Changeup', 'TaggedPitchType_Riseball_LagPitchType_Curveball', 'TaggedPitchType_Riseball_LagPitchType_Dropball', 'TaggedPitchType_Riseball_LagPitchType_Fastball', 'TaggedPitchType_Riseball_LagPitchType_Riseball', 'TaggedPitchType_Riseball_LagPitchType_Screwball', 'TaggedPitchType_Screwball_LagPitchType_Changeup', 'TaggedPitchType_Screwball_LagPitchType_Curveball', 'TaggedPitchType_Screwball_LagPitchType_Dropball', 'TaggedPitchType_Screwball_LagPitchType_Fastball', 'TaggedPitchType_Screwball_LagPitchType_Riseball', 'TaggedPitchType_Screwball_LagPitchType_Screwball']\n",
      "['Balls', 'Strikes', 'TaggedPitchType_Changeup', 'TaggedPitchType_Curveball', 'TaggedPitchType_Fastball', 'TaggedPitchType_Screwball', 'LagPitchType_Changeup', 'LagPitchType_Curveball', 'LagPitchType_Fastball', 'LagPitchType_Screwball', 'BatterSide_Left', 'BatterSide_Right', 'TaggedPitchType_Changeup_LagPitchType_Changeup', 'TaggedPitchType_Changeup_LagPitchType_Curveball', 'TaggedPitchType_Changeup_LagPitchType_Fastball', 'TaggedPitchType_Changeup_LagPitchType_Screwball', 'TaggedPitchType_Curveball_LagPitchType_Changeup', 'TaggedPitchType_Curveball_LagPitchType_Curveball', 'TaggedPitchType_Curveball_LagPitchType_Fastball', 'TaggedPitchType_Curveball_LagPitchType_Screwball', 'TaggedPitchType_Fastball_LagPitchType_Changeup', 'TaggedPitchType_Fastball_LagPitchType_Curveball', 'TaggedPitchType_Fastball_LagPitchType_Fastball', 'TaggedPitchType_Fastball_LagPitchType_Screwball', 'TaggedPitchType_Screwball_LagPitchType_Changeup', 'TaggedPitchType_Screwball_LagPitchType_Curveball', 'TaggedPitchType_Screwball_LagPitchType_Fastball', 'TaggedPitchType_Screwball_LagPitchType_Screwball']\n",
      "['Balls', 'Strikes', 'TaggedPitchType_Changeup', 'TaggedPitchType_Curveball', 'TaggedPitchType_Fastball', 'TaggedPitchType_Riseball', 'LagPitchType_Changeup', 'LagPitchType_Curveball', 'LagPitchType_Fastball', 'LagPitchType_Riseball', 'BatterSide_Right', 'TaggedPitchType_Changeup_LagPitchType_Changeup', 'TaggedPitchType_Changeup_LagPitchType_Curveball', 'TaggedPitchType_Changeup_LagPitchType_Fastball', 'TaggedPitchType_Changeup_LagPitchType_Riseball', 'TaggedPitchType_Curveball_LagPitchType_Changeup', 'TaggedPitchType_Curveball_LagPitchType_Curveball', 'TaggedPitchType_Curveball_LagPitchType_Fastball', 'TaggedPitchType_Curveball_LagPitchType_Riseball', 'TaggedPitchType_Fastball_LagPitchType_Changeup', 'TaggedPitchType_Fastball_LagPitchType_Curveball', 'TaggedPitchType_Fastball_LagPitchType_Fastball', 'TaggedPitchType_Fastball_LagPitchType_Riseball', 'TaggedPitchType_Riseball_LagPitchType_Changeup', 'TaggedPitchType_Riseball_LagPitchType_Curveball', 'TaggedPitchType_Riseball_LagPitchType_Fastball', 'TaggedPitchType_Riseball_LagPitchType_Riseball']\n"
     ]
    }
   ],
   "source": [
    "def create_model(pitcher):\n",
    "    pitcher_data = data[data['Pitcher'] == pitcher]\n",
    "    pitcher_data = pd.get_dummies(pitcher_data, columns=['TaggedPitchType', 'LagPitchType', 'BatterSide'])\n",
    "\n",
    "    # create interaction terms for each pitch / lag pitch combination\n",
    "    for col in pitcher_data.columns:\n",
    "        if col.startswith('TaggedPitchType') and col != 'TaggedPitchType':\n",
    "            for lag_col in pitcher_data.columns:\n",
    "                if lag_col.startswith('LagPitchType') and lag_col != 'LagPitchType':\n",
    "                    pitcher_data[col + '_' + lag_col] = pitcher_data[col] * pitcher_data[lag_col]\n",
    "\n",
    "    x_columns = [col for col in pitcher_data.columns if col.startswith('TaggedPitchType') or col.startswith('LagPitchType') or col.startswith('BatterSide') or col.startswith('Balls') or col.startswith('Strikes')]\n",
    "    print(x_columns)\n",
    "\n",
    "    X = pitcher_data[x_columns]\n",
    "    y = pitcher_data['Score']\n",
    "\n",
    "    X_train, X_test, y_train, y_test = train_test_split(X, y, test_size=0.2)\n",
    "\n",
    "    model = MLPRegressor(hidden_layer_sizes=(100, 100, 100), max_iter=1000)\n",
    "    model.fit(X_train, y_train)\n",
    "\n",
    "    return model, X_train\n",
    "\n",
    "for pitcher in pd.unique(data['Pitcher']):\n",
    "    model, X_train = create_model(pitcher)\n",
    "\n",
    "    with open('models/' + pitcher + '.pkl', 'wb') as f:\n",
    "        pickle.dump(model, f)\n",
    "    \n",
    "    # save feature names in order to txt file\n",
    "    with open('models/' + pitcher + ' Features.txt', 'w') as f:\n",
    "        f.write('\\n'.join(X_train.columns.tolist())   ) "
   ]
  }
 ],
 "metadata": {
  "kernelspec": {
   "display_name": "Python 3",
   "language": "python",
   "name": "python3"
  },
  "language_info": {
   "codemirror_mode": {
    "name": "ipython",
    "version": 3
   },
   "file_extension": ".py",
   "mimetype": "text/x-python",
   "name": "python",
   "nbconvert_exporter": "python",
   "pygments_lexer": "ipython3",
   "version": "3.11.2"
  }
 },
 "nbformat": 4,
 "nbformat_minor": 2
}
